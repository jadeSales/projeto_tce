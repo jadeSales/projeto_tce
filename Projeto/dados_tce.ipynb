{
 "cells": [
  {
   "cell_type": "markdown",
   "metadata": {},
   "source": [
    "#### Bibliotecas"
   ]
  },
  {
   "cell_type": "code",
   "execution_count": 1,
   "metadata": {},
   "outputs": [],
   "source": [
    "import requests\n",
    "import json\n",
    "import pandas as pd\n",
    "import datetime\n",
    "import matplotlib.pyplot as plt"
   ]
  },
  {
   "cell_type": "markdown",
   "metadata": {},
   "source": [
    "#### Extração dos Dados\n",
    "\n",
    "API: Portal da Transparência do TCE SP (Tribunal de Contas do Estado de São Paulo)\n",
    "\n",
    "Dados de despesas dos munícipios: Santos, Praia Grande, São Vicente, Guaruja, Caraguatatuba"
   ]
  },
  {
   "cell_type": "code",
   "execution_count": 2,
   "metadata": {},
   "outputs": [],
   "source": [
    "#API municipios\n",
    "url_municipios = 'https://transparencia.tce.sp.gov.br/api/json/municipios'"
   ]
  },
  {
   "cell_type": "code",
   "execution_count": 3,
   "metadata": {},
   "outputs": [],
   "source": [
    "ret_municipio = requests.get(url_municipios)\n",
    "municipio = json.loads(ret_municipio.content)\n"
   ]
  },
  {
   "cell_type": "code",
   "execution_count": 4,
   "metadata": {},
   "outputs": [],
   "source": [
    "#Cria uma lista com todos os municípios que contêm dados de despesas disponíveis \n",
    "municipio_json = municipio\n",
    "df_municipios = pd.DataFrame(municipio_json)\n",
    "lista_municipios = df_municipios['municipio'].values.tolist()\n",
    "mun_lista = lista_municipios\n"
   ]
  },
  {
   "cell_type": "code",
   "execution_count": 5,
   "metadata": {},
   "outputs": [],
   "source": [
    "#Função para validar se os municípios escolhidos estão na lista do TCE\n",
    "def valida_municipio(municipio=list, lista=list):\n",
    "    for i in range(0, 5):\n",
    "        if lista.index(municipio[i]):\n",
    "            try:\n",
    "                print(f\"Município {municipio[i]} contêm dados de despesas disponíveis\")\n",
    "            except ValueError:\n",
    "                print(\"O município não contém na lista\")\n"
   ]
  },
  {
   "cell_type": "code",
   "execution_count": 6,
   "metadata": {},
   "outputs": [],
   "source": [
    "municipios = ['santos', 'praia-grande', 'sao-vicente', 'guaruja', 'caraguatatuba']\n"
   ]
  },
  {
   "cell_type": "code",
   "execution_count": 7,
   "metadata": {},
   "outputs": [
    {
     "name": "stdout",
     "output_type": "stream",
     "text": [
      "Município santos contêm dados de despesas disponíveis\n",
      "Município praia-grande contêm dados de despesas disponíveis\n",
      "Município sao-vicente contêm dados de despesas disponíveis\n",
      "Município guaruja contêm dados de despesas disponíveis\n",
      "Município caraguatatuba contêm dados de despesas disponíveis\n"
     ]
    }
   ],
   "source": [
    "municipios_validados = valida_municipio(municipios, mun_lista)\n"
   ]
  },
  {
   "cell_type": "code",
   "execution_count": 9,
   "metadata": {},
   "outputs": [],
   "source": [
    "#Função para criar dataframe pandas para cada município, consolidando todos os anos de 2014 a 2019\n",
    "def df_despesa_municipio(municipio):\n",
    "\n",
    "    url_despesas = 'https://transparencia.tce.sp.gov.br/api/json/despesas'\n",
    "    municipio = municipio\n",
    "    ano = [2014, 2015, 2016, 2017, 2018, 2019]\n",
    "    mes = [1, 2, 3, 4, 5, 6, 7, 8, 9, 10, 11, 12]\n",
    "    lista_ano = list()\n",
    "    df_despesas_unico = pd.DataFrame()\n",
    "\n",
    "\n",
    "    for i_ano in ano:\n",
    "\n",
    "        for i_mes in mes:\n",
    "            retorno_api = f\"{url_despesas}/{municipio}/{i_ano}/{i_mes}\"\n",
    "            retorno_despesas = requests.get(retorno_api)\n",
    "            arquivo_despesas = json.loads(retorno_despesas.content)\n",
    "            df_despesas_mes = pd.DataFrame(arquivo_despesas)\n",
    "            df_despesas_unico = df_despesas_unico.append(df_despesas_mes, ignore_index=True)\n",
    "\n",
    "        lista_ano.append(i_ano)\n",
    "\n",
    "    print(f'Arquivo de Despesas criado com sucesso! \\n Município: {municipio} \\n Ano: {lista_ano} \\n Mês: {mes}')\n",
    "\n",
    "    return df_despesas_unico\n"
   ]
  },
  {
   "cell_type": "markdown",
   "metadata": {},
   "source": [
    "### Transformação dos dados"
   ]
  },
  {
   "cell_type": "code",
   "execution_count": 10,
   "metadata": {},
   "outputs": [],
   "source": [
    "def deleta_duplicidade(df_source):\n",
    "\n",
    "    df = df_source.drop_duplicates()\n",
    "\n",
    "    return df\n"
   ]
  },
  {
   "cell_type": "code",
   "execution_count": 11,
   "metadata": {},
   "outputs": [],
   "source": [
    "def deleta_colunas(df_source):\n",
    "\n",
    "    df = df_source.drop(columns=['evento', 'nr_empenho', 'id_fornecedor'])\n",
    "    \n",
    "    return df"
   ]
  },
  {
   "cell_type": "code",
   "execution_count": 12,
   "metadata": {},
   "outputs": [],
   "source": [
    "def deleta_linha_vazia(df_source):\n",
    "\n",
    "    df = df_source.dropna(how='all')\n",
    "\n",
    "    return df"
   ]
  },
  {
   "cell_type": "code",
   "execution_count": 13,
   "metadata": {},
   "outputs": [],
   "source": [
    "def rename_uppercase(df_source):\n",
    "\n",
    "    lista = ['orgao', 'nm_fornecedor']\n",
    "\n",
    "    for col in lista:\n",
    "        df_source[col] = df_source[col].str.title()\n",
    "\n",
    "    return df_source\n"
   ]
  },
  {
   "cell_type": "code",
   "execution_count": 14,
   "metadata": {},
   "outputs": [],
   "source": [
    "def renomemar_coluna(df_source):\n",
    "\n",
    "   df_source = df_source.rename(columns={'nm_fornecedor': 'nome_fornecedor', 'vl_despesa': 'valor_despesa'})\n",
    "\n",
    "   return df_source   "
   ]
  },
  {
   "cell_type": "code",
   "execution_count": 51,
   "metadata": {},
   "outputs": [],
   "source": [
    "def cria_nova_tabela_municipio(df_source, valor):\n",
    "\n",
    "    df_source = df_source.assign(municipio=valor)\n",
    "\n",
    "    df_source['dt_emissao_despesa'] = pd.to_datetime(\n",
    "        df_source['dt_emissao_despesa'], format='%d/%m/%Y')\n",
    "    \n",
    "    df_source['ano'] = df_source['dt_emissao_despesa'].dt.year\n",
    "    \n",
    "    df_source = df_source.drop(\n",
    "        columns=['orgao', 'nome_fornecedor', 'dt_emissao_despesa']\n",
    "    )\n",
    "\n",
    "    df_source = df_source.groupby(['municipio', 'ano', 'mes'])[\n",
    "        'valor_despesa'].count().reset_index(name='valor_tota_despesa')\n",
    "        \n",
    "    df_source['valor_tota_despesa'] = df_source['valor_tota_despesa'].astype(float)\n",
    "\n",
    "\n",
    "    return df_source\n"
   ]
  },
  {
   "cell_type": "code",
   "execution_count": 16,
   "metadata": {},
   "outputs": [],
   "source": [
    "def cria_nova_tabela_orgaos(df_source):\n",
    "\n",
    "    df_source['dt_emissao_despesa'] = pd.to_datetime(\n",
    "        df_source['dt_emissao_despesa'], format='%d/%m/%Y')\n",
    "\n",
    "    df_source['ano'] = df_source['dt_emissao_despesa'].dt.year\n",
    "\n",
    "    df_source = df_source.drop(\n",
    "        columns=['nome_fornecedor', 'dt_emissao_despesa'])\n",
    "\n",
    "    df_source = df_source.groupby(['orgao', 'ano'])['valor_despesa'].count().reset_index(name='valor_tota_despesa')\n",
    "\n",
    "    df_source['valor_tota_despesa'] = df_source['valor_tota_despesa'].astype(float)\n",
    "\n",
    "    return df_source"
   ]
  },
  {
   "cell_type": "markdown",
   "metadata": {},
   "source": [
    "#### Municipio de Praia Grande"
   ]
  },
  {
   "cell_type": "code",
   "execution_count": null,
   "metadata": {},
   "outputs": [],
   "source": [
    "#Cria data frame\n",
    "df_praia_grande = df_despesa_municipio('praia-grande')"
   ]
  },
  {
   "cell_type": "code",
   "execution_count": 18,
   "metadata": {},
   "outputs": [],
   "source": [
    "#Chama as funções de transformação\n",
    "df_mun_praia_grande = deleta_duplicidade(df_praia_grande)\n",
    "df_mun_praia_grande = deleta_colunas(df_mun_praia_grande)\n",
    "df_mun_praia_grande = deleta_linha_vazia(df_mun_praia_grande)\n",
    "df_mun_praia_grande = rename_uppercase(df_mun_praia_grande)\n",
    "df_mun_praia_grande = renomemar_coluna(df_mun_praia_grande)\n"
   ]
  },
  {
   "cell_type": "code",
   "execution_count": 52,
   "metadata": {},
   "outputs": [],
   "source": [
    "#Cria novo dataframe visão despesa municipio por ano e mes\n",
    "df_despesa_mun_praia_grande = cria_nova_tabela_municipio(df_mun_praia_grande, 'praia grande')"
   ]
  },
  {
   "cell_type": "code",
   "execution_count": 86,
   "metadata": {},
   "outputs": [],
   "source": [
    "df_despesa_mun_praia_grande.to_excel(r'C:\\Users\\USER\\Desktop\\Projeto - TCE\\tabelas\\tabela_mun_praia_grande.xlsx', index=False)"
   ]
  },
  {
   "cell_type": "code",
   "execution_count": 53,
   "metadata": {},
   "outputs": [
    {
     "data": {
      "text/html": [
       "<div>\n",
       "<style scoped>\n",
       "    .dataframe tbody tr th:only-of-type {\n",
       "        vertical-align: middle;\n",
       "    }\n",
       "\n",
       "    .dataframe tbody tr th {\n",
       "        vertical-align: top;\n",
       "    }\n",
       "\n",
       "    .dataframe thead th {\n",
       "        text-align: right;\n",
       "    }\n",
       "</style>\n",
       "<table border=\"1\" class=\"dataframe\">\n",
       "  <thead>\n",
       "    <tr style=\"text-align: right;\">\n",
       "      <th></th>\n",
       "      <th>municipio</th>\n",
       "      <th>ano</th>\n",
       "      <th>mes</th>\n",
       "      <th>valor_tota_despesa</th>\n",
       "    </tr>\n",
       "  </thead>\n",
       "  <tbody>\n",
       "    <tr>\n",
       "      <th>0</th>\n",
       "      <td>praia grande</td>\n",
       "      <td>2014</td>\n",
       "      <td>Abril</td>\n",
       "      <td>7065.0</td>\n",
       "    </tr>\n",
       "    <tr>\n",
       "      <th>1</th>\n",
       "      <td>praia grande</td>\n",
       "      <td>2014</td>\n",
       "      <td>Agosto</td>\n",
       "      <td>7658.0</td>\n",
       "    </tr>\n",
       "    <tr>\n",
       "      <th>2</th>\n",
       "      <td>praia grande</td>\n",
       "      <td>2014</td>\n",
       "      <td>Dezembro</td>\n",
       "      <td>9991.0</td>\n",
       "    </tr>\n",
       "    <tr>\n",
       "      <th>3</th>\n",
       "      <td>praia grande</td>\n",
       "      <td>2014</td>\n",
       "      <td>Fevereiro</td>\n",
       "      <td>5280.0</td>\n",
       "    </tr>\n",
       "    <tr>\n",
       "      <th>4</th>\n",
       "      <td>praia grande</td>\n",
       "      <td>2014</td>\n",
       "      <td>Janeiro</td>\n",
       "      <td>3671.0</td>\n",
       "    </tr>\n",
       "    <tr>\n",
       "      <th>...</th>\n",
       "      <td>...</td>\n",
       "      <td>...</td>\n",
       "      <td>...</td>\n",
       "      <td>...</td>\n",
       "    </tr>\n",
       "    <tr>\n",
       "      <th>67</th>\n",
       "      <td>praia grande</td>\n",
       "      <td>2019</td>\n",
       "      <td>Maio</td>\n",
       "      <td>7896.0</td>\n",
       "    </tr>\n",
       "    <tr>\n",
       "      <th>68</th>\n",
       "      <td>praia grande</td>\n",
       "      <td>2019</td>\n",
       "      <td>Março</td>\n",
       "      <td>5805.0</td>\n",
       "    </tr>\n",
       "    <tr>\n",
       "      <th>69</th>\n",
       "      <td>praia grande</td>\n",
       "      <td>2019</td>\n",
       "      <td>Novembro</td>\n",
       "      <td>8782.0</td>\n",
       "    </tr>\n",
       "    <tr>\n",
       "      <th>70</th>\n",
       "      <td>praia grande</td>\n",
       "      <td>2019</td>\n",
       "      <td>Outubro</td>\n",
       "      <td>9177.0</td>\n",
       "    </tr>\n",
       "    <tr>\n",
       "      <th>71</th>\n",
       "      <td>praia grande</td>\n",
       "      <td>2019</td>\n",
       "      <td>Setembro</td>\n",
       "      <td>7805.0</td>\n",
       "    </tr>\n",
       "  </tbody>\n",
       "</table>\n",
       "<p>72 rows × 4 columns</p>\n",
       "</div>"
      ],
      "text/plain": [
       "       municipio   ano        mes  valor_tota_despesa\n",
       "0   praia grande  2014      Abril              7065.0\n",
       "1   praia grande  2014     Agosto              7658.0\n",
       "2   praia grande  2014   Dezembro              9991.0\n",
       "3   praia grande  2014  Fevereiro              5280.0\n",
       "4   praia grande  2014    Janeiro              3671.0\n",
       "..           ...   ...        ...                 ...\n",
       "67  praia grande  2019       Maio              7896.0\n",
       "68  praia grande  2019      Março              5805.0\n",
       "69  praia grande  2019   Novembro              8782.0\n",
       "70  praia grande  2019    Outubro              9177.0\n",
       "71  praia grande  2019   Setembro              7805.0\n",
       "\n",
       "[72 rows x 4 columns]"
      ]
     },
     "execution_count": 53,
     "metadata": {},
     "output_type": "execute_result"
    }
   ],
   "source": [
    "df_despesa_mun_praia_grande"
   ]
  },
  {
   "cell_type": "code",
   "execution_count": 89,
   "metadata": {},
   "outputs": [],
   "source": [
    "#Cria novo dataframe visão despesa orgao por ano \n",
    "df_despesa_orgaos_praia_grande = cria_nova_tabela_orgaos(df_mun_praia_grande)"
   ]
  },
  {
   "cell_type": "code",
   "execution_count": 90,
   "metadata": {},
   "outputs": [],
   "source": [
    "df_despesa_orgaos_praia_grande.to_excel(r'C:\\Users\\USER\\Desktop\\Projeto - TCE\\tabelas\\tabela_orgao_praia_grande.xlsx', index=False)"
   ]
  },
  {
   "cell_type": "markdown",
   "metadata": {},
   "source": [
    "Gráfico 1 - Despesa total por ano "
   ]
  },
  {
   "cell_type": "code",
   "execution_count": 29,
   "metadata": {},
   "outputs": [],
   "source": [
    "#criando df somente com os campos necessários\n",
    "df_grafico_praia_grande = df_despesa_mun_praia_grande.groupby(['ano'])['valor_despesa'].sum().reset_index(name='total')\n",
    "\n",
    "#Criando lista com os valores das colunas\n",
    "lista_ano_praia_grande = df_grafico_praia_grande['ano'].tolist()\n",
    "lista_total_praia_grande = df_grafico_praia_grande['total'].tolist()"
   ]
  },
  {
   "cell_type": "code",
   "execution_count": 37,
   "metadata": {},
   "outputs": [
    {
     "data": {
      "image/png": "[encoded data removed]",
      "text/plain": [
       "<Figure size 432x288 with 1 Axes>"
      ]
     },
     "metadata": {
      "needs_background": "light"
     },
     "output_type": "display_data"
    }
   ],
   "source": [
    "#gráfico com o valor de despesas por ano \n",
    "ano_praia_grande = lista_ano_praia_grande\n",
    "despesa_praia_grande = lista_total_praia_grande\n",
    "\n",
    "\"\"\"\n",
    "    Chamamos o método bar que criará o gráfico de barra passando os \n",
    "    argumentos:\n",
    "    - ano como eixo x\n",
    "    - despasa como eixo y\n",
    "    - color para as cores das barras como green\n",
    "\"\"\"\n",
    "plt.bar(ano_praia_grande, despesa_praia_grande, color=\"green\")\n",
    "\n",
    "#Legenda de cada barra eixo x\n",
    "plt.xticks(ano_praia_grande)\n",
    "\n",
    "#Label para eixo Y e X\n",
    "plt.ylabel(\"Valor despesa\")\n",
    "plt.xlabel(\"Período\")\n",
    "\n",
    "#título do gráfico\n",
    "plt.title(\"Despesa por ano - Praia Grande\")\n",
    "\n",
    "plt.show()"
   ]
  },
  {
   "cell_type": "markdown",
   "metadata": {},
   "source": [
    "Gráfico 2 - valor de despesa total por orgão"
   ]
  },
  {
   "cell_type": "code",
   "execution_count": 62,
   "metadata": {},
   "outputs": [],
   "source": [
    "df_grafico_orgao_pg = df_despesa_orgaos_praia_grande.groupby(['orgao'])['valor_tota_despesa'].sum().reset_index(name='total')"
   ]
  },
  {
   "cell_type": "code",
   "execution_count": 98,
   "metadata": {},
   "outputs": [
    {
     "data": {
      "image/png": "[encoded data removed]",
      "text/plain": [
       "<Figure size 432x288 with 1 Axes>"
      ]
     },
     "metadata": {},
     "output_type": "display_data"
    }
   ],
   "source": [
    "lista_orgao_pg = df_grafico_orgao_pg['orgao'].tolist()\n",
    "lista_valor_despesa_pg = df_grafico_orgao_pg['total'].tolist()\n",
    "\n",
    "#criando a área de plotagem\n",
    "fig1, ax1 = plt.subplots()\n",
    "\n",
    "#cores\n",
    "colors = ['gold', 'yellowgreen', 'green']\n",
    "#criando o gráfico\n",
    "ax1.pie(lista_valor_despesa_pg, labels=lista_orgao_pg, colors=colors, autopct='%1.1f%%',\n",
    "        shadow=True, startangle=140)\n",
    "\n",
    "#caixa de legenda externa\n",
    "ax1.legend(lista_orgao_pg, \n",
    "          title='Orgãos', \n",
    "          loc='center left',\n",
    "          bbox_to_anchor=(1, 0, 0.5, 1))\n",
    "\n",
    "#Título do gráfico\n",
    "ax1.set_title(\"Valor de despesa por orgão\")\n",
    "\n",
    "#para deixar em círculo\n",
    "ax1.axis('equal')\n",
    "\n",
    "plt.show()"
   ]
  },
  {
   "cell_type": "markdown",
   "metadata": {},
   "source": [
    "Gráfico 3 - valor de despesa da Prefeitura por ano"
   ]
  },
  {
   "cell_type": "code",
   "execution_count": 100,
   "metadata": {},
   "outputs": [],
   "source": [
    "# Filtrando apenas o orgao prefeitura\n",
    "df_filter_orgao_pg= df_despesa_orgaos_praia_grande[df_despesa_orgaos_praia_grande['orgao'] == \"Prefeitura Municipal De Praia Grande\"]"
   ]
  },
  {
   "cell_type": "code",
   "execution_count": 110,
   "metadata": {},
   "outputs": [
    {
     "data": {
      "image/png": "[encoded data removed]",
      "text/plain": [
       "<Figure size 432x288 with 1 Axes>"
      ]
     },
     "metadata": {
      "needs_background": "light"
     },
     "output_type": "display_data"
    }
   ],
   "source": [
    "#Gráfico da despesa do orgao \"Prefeitura Municipal De Praia Grande\" por ano\n",
    "x = df_filter_orgao_pg['ano'].tolist()\n",
    "y = df_filter_orgao_pg['valor_tota_despesa'].tolist()\n",
    "\n",
    "plt.plot(x, y) \n",
    "plt.xlabel(\"período\")  \n",
    "plt.ylabel(\"valor\")  \n",
    "plt.title(\"Despesa Prefeitura Municial de Praia Grande por ano\")  \n",
    "plt.show() "
   ]
  },
  {
   "cell_type": "markdown",
   "metadata": {},
   "source": [
    "#### Município Santos"
   ]
  },
  {
   "cell_type": "code",
   "execution_count": null,
   "metadata": {},
   "outputs": [],
   "source": [
    "df_santos = df_despesa_municipio('santos')"
   ]
  },
  {
   "cell_type": "code",
   "execution_count": 22,
   "metadata": {},
   "outputs": [],
   "source": [
    "#Chama as funções de transformação\n",
    "df_mun_df_santos = deleta_duplicidade(df_santos)\n",
    "df_mun_df_santos = deleta_colunas(df_mun_df_santos)\n",
    "df_mun_df_santos = deleta_linha_vazia(df_mun_df_santos)\n",
    "df_mun_df_santos = rename_uppercase(df_mun_df_santos)\n",
    "df_mun_df_santos = renomemar_coluna(df_mun_df_santos)\n"
   ]
  },
  {
   "cell_type": "code",
   "execution_count": 54,
   "metadata": {},
   "outputs": [],
   "source": [
    "#Cria novo dataframe visão despesa municipio por ano e mes\n",
    "df_despesa_mun_santos = cria_nova_tabela_municipio(\n",
    "    df_mun_df_santos, 'santos')"
   ]
  },
  {
   "cell_type": "code",
   "execution_count": 85,
   "metadata": {},
   "outputs": [],
   "source": [
    "df_despesa_mun_santos.to_excel(r'C:\\Users\\USER\\Desktop\\Projeto - TCE\\tabelas\\tabela_mun_santos.xlsx', index=False)"
   ]
  },
  {
   "cell_type": "code",
   "execution_count": 55,
   "metadata": {},
   "outputs": [
    {
     "data": {
      "text/html": [
       "<div>\n",
       "<style scoped>\n",
       "    .dataframe tbody tr th:only-of-type {\n",
       "        vertical-align: middle;\n",
       "    }\n",
       "\n",
       "    .dataframe tbody tr th {\n",
       "        vertical-align: top;\n",
       "    }\n",
       "\n",
       "    .dataframe thead th {\n",
       "        text-align: right;\n",
       "    }\n",
       "</style>\n",
       "<table border=\"1\" class=\"dataframe\">\n",
       "  <thead>\n",
       "    <tr style=\"text-align: right;\">\n",
       "      <th></th>\n",
       "      <th>municipio</th>\n",
       "      <th>ano</th>\n",
       "      <th>mes</th>\n",
       "      <th>valor_tota_despesa</th>\n",
       "    </tr>\n",
       "  </thead>\n",
       "  <tbody>\n",
       "    <tr>\n",
       "      <th>0</th>\n",
       "      <td>santos</td>\n",
       "      <td>2014</td>\n",
       "      <td>Abril</td>\n",
       "      <td>9712.0</td>\n",
       "    </tr>\n",
       "    <tr>\n",
       "      <th>1</th>\n",
       "      <td>santos</td>\n",
       "      <td>2014</td>\n",
       "      <td>Agosto</td>\n",
       "      <td>10323.0</td>\n",
       "    </tr>\n",
       "    <tr>\n",
       "      <th>2</th>\n",
       "      <td>santos</td>\n",
       "      <td>2014</td>\n",
       "      <td>Dezembro</td>\n",
       "      <td>12790.0</td>\n",
       "    </tr>\n",
       "    <tr>\n",
       "      <th>3</th>\n",
       "      <td>santos</td>\n",
       "      <td>2014</td>\n",
       "      <td>Fevereiro</td>\n",
       "      <td>8577.0</td>\n",
       "    </tr>\n",
       "    <tr>\n",
       "      <th>4</th>\n",
       "      <td>santos</td>\n",
       "      <td>2014</td>\n",
       "      <td>Janeiro</td>\n",
       "      <td>8143.0</td>\n",
       "    </tr>\n",
       "    <tr>\n",
       "      <th>...</th>\n",
       "      <td>...</td>\n",
       "      <td>...</td>\n",
       "      <td>...</td>\n",
       "      <td>...</td>\n",
       "    </tr>\n",
       "    <tr>\n",
       "      <th>67</th>\n",
       "      <td>santos</td>\n",
       "      <td>2019</td>\n",
       "      <td>Maio</td>\n",
       "      <td>8378.0</td>\n",
       "    </tr>\n",
       "    <tr>\n",
       "      <th>68</th>\n",
       "      <td>santos</td>\n",
       "      <td>2019</td>\n",
       "      <td>Março</td>\n",
       "      <td>8194.0</td>\n",
       "    </tr>\n",
       "    <tr>\n",
       "      <th>69</th>\n",
       "      <td>santos</td>\n",
       "      <td>2019</td>\n",
       "      <td>Novembro</td>\n",
       "      <td>10023.0</td>\n",
       "    </tr>\n",
       "    <tr>\n",
       "      <th>70</th>\n",
       "      <td>santos</td>\n",
       "      <td>2019</td>\n",
       "      <td>Outubro</td>\n",
       "      <td>9363.0</td>\n",
       "    </tr>\n",
       "    <tr>\n",
       "      <th>71</th>\n",
       "      <td>santos</td>\n",
       "      <td>2019</td>\n",
       "      <td>Setembro</td>\n",
       "      <td>8645.0</td>\n",
       "    </tr>\n",
       "  </tbody>\n",
       "</table>\n",
       "<p>72 rows × 4 columns</p>\n",
       "</div>"
      ],
      "text/plain": [
       "   municipio   ano        mes  valor_tota_despesa\n",
       "0     santos  2014      Abril              9712.0\n",
       "1     santos  2014     Agosto             10323.0\n",
       "2     santos  2014   Dezembro             12790.0\n",
       "3     santos  2014  Fevereiro              8577.0\n",
       "4     santos  2014    Janeiro              8143.0\n",
       "..       ...   ...        ...                 ...\n",
       "67    santos  2019       Maio              8378.0\n",
       "68    santos  2019      Março              8194.0\n",
       "69    santos  2019   Novembro             10023.0\n",
       "70    santos  2019    Outubro              9363.0\n",
       "71    santos  2019   Setembro              8645.0\n",
       "\n",
       "[72 rows x 4 columns]"
      ]
     },
     "execution_count": 55,
     "metadata": {},
     "output_type": "execute_result"
    }
   ],
   "source": [
    "df_despesa_mun_santos"
   ]
  },
  {
   "cell_type": "code",
   "execution_count": 25,
   "metadata": {},
   "outputs": [],
   "source": [
    "#Cria novo dataframe visão despesa orgao por ano\n",
    "df_despesa_orgaos_santos = cria_nova_tabela_orgaos(df_mun_df_santos)"
   ]
  },
  {
   "cell_type": "code",
   "execution_count": 84,
   "metadata": {},
   "outputs": [],
   "source": [
    "df_despesa_orgaos_santos.to_excel(r'C:\\Users\\USER\\Desktop\\Projeto - TCE\\tabelas\\tabela_orgao_santos.xlsx', index=False)"
   ]
  },
  {
   "cell_type": "code",
   "execution_count": 26,
   "metadata": {},
   "outputs": [
    {
     "data": {
      "text/html": [
       "<div>\n",
       "<style scoped>\n",
       "    .dataframe tbody tr th:only-of-type {\n",
       "        vertical-align: middle;\n",
       "    }\n",
       "\n",
       "    .dataframe tbody tr th {\n",
       "        vertical-align: top;\n",
       "    }\n",
       "\n",
       "    .dataframe thead th {\n",
       "        text-align: right;\n",
       "    }\n",
       "</style>\n",
       "<table border=\"1\" class=\"dataframe\">\n",
       "  <thead>\n",
       "    <tr style=\"text-align: right;\">\n",
       "      <th></th>\n",
       "      <th>orgao</th>\n",
       "      <th>ano</th>\n",
       "      <th>valor_tota_despesa</th>\n",
       "    </tr>\n",
       "  </thead>\n",
       "  <tbody>\n",
       "    <tr>\n",
       "      <th>0</th>\n",
       "      <td>Caixa De Assistência Ao Servidor Público Munic...</td>\n",
       "      <td>2014</td>\n",
       "      <td>2256.0</td>\n",
       "    </tr>\n",
       "    <tr>\n",
       "      <th>1</th>\n",
       "      <td>Caixa De Assistência Ao Servidor Público Munic...</td>\n",
       "      <td>2015</td>\n",
       "      <td>2050.0</td>\n",
       "    </tr>\n",
       "    <tr>\n",
       "      <th>2</th>\n",
       "      <td>Caixa De Assistência Ao Servidor Público Munic...</td>\n",
       "      <td>2016</td>\n",
       "      <td>10306.0</td>\n",
       "    </tr>\n",
       "    <tr>\n",
       "      <th>3</th>\n",
       "      <td>Caixa De Assistência Ao Servidor Público Munic...</td>\n",
       "      <td>2017</td>\n",
       "      <td>9274.0</td>\n",
       "    </tr>\n",
       "    <tr>\n",
       "      <th>4</th>\n",
       "      <td>Caixa De Assistência Ao Servidor Público Munic...</td>\n",
       "      <td>2018</td>\n",
       "      <td>9067.0</td>\n",
       "    </tr>\n",
       "    <tr>\n",
       "      <th>5</th>\n",
       "      <td>Caixa De Assistência Ao Servidor Público Munic...</td>\n",
       "      <td>2019</td>\n",
       "      <td>9464.0</td>\n",
       "    </tr>\n",
       "    <tr>\n",
       "      <th>6</th>\n",
       "      <td>Câmara Municipal De Santos</td>\n",
       "      <td>2014</td>\n",
       "      <td>2195.0</td>\n",
       "    </tr>\n",
       "    <tr>\n",
       "      <th>7</th>\n",
       "      <td>Câmara Municipal De Santos</td>\n",
       "      <td>2015</td>\n",
       "      <td>2690.0</td>\n",
       "    </tr>\n",
       "    <tr>\n",
       "      <th>8</th>\n",
       "      <td>Câmara Municipal De Santos</td>\n",
       "      <td>2016</td>\n",
       "      <td>2393.0</td>\n",
       "    </tr>\n",
       "    <tr>\n",
       "      <th>9</th>\n",
       "      <td>Câmara Municipal De Santos</td>\n",
       "      <td>2017</td>\n",
       "      <td>2465.0</td>\n",
       "    </tr>\n",
       "    <tr>\n",
       "      <th>10</th>\n",
       "      <td>Câmara Municipal De Santos</td>\n",
       "      <td>2018</td>\n",
       "      <td>2174.0</td>\n",
       "    </tr>\n",
       "    <tr>\n",
       "      <th>11</th>\n",
       "      <td>Câmara Municipal De Santos</td>\n",
       "      <td>2019</td>\n",
       "      <td>2127.0</td>\n",
       "    </tr>\n",
       "    <tr>\n",
       "      <th>12</th>\n",
       "      <td>Fundação Arquivo E Memória De Santos</td>\n",
       "      <td>2014</td>\n",
       "      <td>2339.0</td>\n",
       "    </tr>\n",
       "    <tr>\n",
       "      <th>13</th>\n",
       "      <td>Fundação Arquivo E Memória De Santos</td>\n",
       "      <td>2015</td>\n",
       "      <td>1829.0</td>\n",
       "    </tr>\n",
       "    <tr>\n",
       "      <th>14</th>\n",
       "      <td>Fundação Arquivo E Memória De Santos</td>\n",
       "      <td>2016</td>\n",
       "      <td>1351.0</td>\n",
       "    </tr>\n",
       "    <tr>\n",
       "      <th>15</th>\n",
       "      <td>Fundação Arquivo E Memória De Santos</td>\n",
       "      <td>2017</td>\n",
       "      <td>1354.0</td>\n",
       "    </tr>\n",
       "    <tr>\n",
       "      <th>16</th>\n",
       "      <td>Fundação Arquivo E Memória De Santos</td>\n",
       "      <td>2018</td>\n",
       "      <td>1199.0</td>\n",
       "    </tr>\n",
       "    <tr>\n",
       "      <th>17</th>\n",
       "      <td>Fundação Arquivo E Memória De Santos</td>\n",
       "      <td>2019</td>\n",
       "      <td>1101.0</td>\n",
       "    </tr>\n",
       "    <tr>\n",
       "      <th>18</th>\n",
       "      <td>Fundação Parque Tecnológico De Santos</td>\n",
       "      <td>2014</td>\n",
       "      <td>855.0</td>\n",
       "    </tr>\n",
       "    <tr>\n",
       "      <th>19</th>\n",
       "      <td>Fundação Parque Tecnológico De Santos</td>\n",
       "      <td>2015</td>\n",
       "      <td>811.0</td>\n",
       "    </tr>\n",
       "    <tr>\n",
       "      <th>20</th>\n",
       "      <td>Fundação Parque Tecnológico De Santos</td>\n",
       "      <td>2016</td>\n",
       "      <td>697.0</td>\n",
       "    </tr>\n",
       "    <tr>\n",
       "      <th>21</th>\n",
       "      <td>Fundação Parque Tecnológico De Santos</td>\n",
       "      <td>2017</td>\n",
       "      <td>840.0</td>\n",
       "    </tr>\n",
       "    <tr>\n",
       "      <th>22</th>\n",
       "      <td>Fundação Parque Tecnológico De Santos</td>\n",
       "      <td>2018</td>\n",
       "      <td>656.0</td>\n",
       "    </tr>\n",
       "    <tr>\n",
       "      <th>23</th>\n",
       "      <td>Fundação Parque Tecnológico De Santos</td>\n",
       "      <td>2019</td>\n",
       "      <td>546.0</td>\n",
       "    </tr>\n",
       "    <tr>\n",
       "      <th>24</th>\n",
       "      <td>Fundação Pró-Esporte De Santos</td>\n",
       "      <td>2014</td>\n",
       "      <td>1075.0</td>\n",
       "    </tr>\n",
       "    <tr>\n",
       "      <th>25</th>\n",
       "      <td>Fundação Pró-Esporte De Santos</td>\n",
       "      <td>2015</td>\n",
       "      <td>902.0</td>\n",
       "    </tr>\n",
       "    <tr>\n",
       "      <th>26</th>\n",
       "      <td>Fundação Pró-Esporte De Santos</td>\n",
       "      <td>2016</td>\n",
       "      <td>721.0</td>\n",
       "    </tr>\n",
       "    <tr>\n",
       "      <th>27</th>\n",
       "      <td>Fundação Pró-Esporte De Santos</td>\n",
       "      <td>2017</td>\n",
       "      <td>788.0</td>\n",
       "    </tr>\n",
       "    <tr>\n",
       "      <th>28</th>\n",
       "      <td>Fundação Pró-Esporte De Santos</td>\n",
       "      <td>2018</td>\n",
       "      <td>914.0</td>\n",
       "    </tr>\n",
       "    <tr>\n",
       "      <th>29</th>\n",
       "      <td>Fundação Pró-Esporte De Santos</td>\n",
       "      <td>2019</td>\n",
       "      <td>822.0</td>\n",
       "    </tr>\n",
       "    <tr>\n",
       "      <th>30</th>\n",
       "      <td>Instituto De Previdência Social Dos Servidores...</td>\n",
       "      <td>2014</td>\n",
       "      <td>2731.0</td>\n",
       "    </tr>\n",
       "    <tr>\n",
       "      <th>31</th>\n",
       "      <td>Instituto De Previdência Social Dos Servidores...</td>\n",
       "      <td>2015</td>\n",
       "      <td>2610.0</td>\n",
       "    </tr>\n",
       "    <tr>\n",
       "      <th>32</th>\n",
       "      <td>Instituto De Previdência Social Dos Servidores...</td>\n",
       "      <td>2016</td>\n",
       "      <td>2347.0</td>\n",
       "    </tr>\n",
       "    <tr>\n",
       "      <th>33</th>\n",
       "      <td>Instituto De Previdência Social Dos Servidores...</td>\n",
       "      <td>2017</td>\n",
       "      <td>1882.0</td>\n",
       "    </tr>\n",
       "    <tr>\n",
       "      <th>34</th>\n",
       "      <td>Instituto De Previdência Social Dos Servidores...</td>\n",
       "      <td>2018</td>\n",
       "      <td>2134.0</td>\n",
       "    </tr>\n",
       "    <tr>\n",
       "      <th>35</th>\n",
       "      <td>Instituto De Previdência Social Dos Servidores...</td>\n",
       "      <td>2019</td>\n",
       "      <td>3215.0</td>\n",
       "    </tr>\n",
       "    <tr>\n",
       "      <th>36</th>\n",
       "      <td>Prefeitura Municipal De Santos</td>\n",
       "      <td>2014</td>\n",
       "      <td>107804.0</td>\n",
       "    </tr>\n",
       "    <tr>\n",
       "      <th>37</th>\n",
       "      <td>Prefeitura Municipal De Santos</td>\n",
       "      <td>2015</td>\n",
       "      <td>102179.0</td>\n",
       "    </tr>\n",
       "    <tr>\n",
       "      <th>38</th>\n",
       "      <td>Prefeitura Municipal De Santos</td>\n",
       "      <td>2016</td>\n",
       "      <td>109925.0</td>\n",
       "    </tr>\n",
       "    <tr>\n",
       "      <th>39</th>\n",
       "      <td>Prefeitura Municipal De Santos</td>\n",
       "      <td>2017</td>\n",
       "      <td>88548.0</td>\n",
       "    </tr>\n",
       "    <tr>\n",
       "      <th>40</th>\n",
       "      <td>Prefeitura Municipal De Santos</td>\n",
       "      <td>2018</td>\n",
       "      <td>80717.0</td>\n",
       "    </tr>\n",
       "    <tr>\n",
       "      <th>41</th>\n",
       "      <td>Prefeitura Municipal De Santos</td>\n",
       "      <td>2019</td>\n",
       "      <td>85775.0</td>\n",
       "    </tr>\n",
       "  </tbody>\n",
       "</table>\n",
       "</div>"
      ],
      "text/plain": [
       "                                                orgao   ano  \\\n",
       "0   Caixa De Assistência Ao Servidor Público Munic...  2014   \n",
       "1   Caixa De Assistência Ao Servidor Público Munic...  2015   \n",
       "2   Caixa De Assistência Ao Servidor Público Munic...  2016   \n",
       "3   Caixa De Assistência Ao Servidor Público Munic...  2017   \n",
       "4   Caixa De Assistência Ao Servidor Público Munic...  2018   \n",
       "5   Caixa De Assistência Ao Servidor Público Munic...  2019   \n",
       "6                          Câmara Municipal De Santos  2014   \n",
       "7                          Câmara Municipal De Santos  2015   \n",
       "8                          Câmara Municipal De Santos  2016   \n",
       "9                          Câmara Municipal De Santos  2017   \n",
       "10                         Câmara Municipal De Santos  2018   \n",
       "11                         Câmara Municipal De Santos  2019   \n",
       "12               Fundação Arquivo E Memória De Santos  2014   \n",
       "13               Fundação Arquivo E Memória De Santos  2015   \n",
       "14               Fundação Arquivo E Memória De Santos  2016   \n",
       "15               Fundação Arquivo E Memória De Santos  2017   \n",
       "16               Fundação Arquivo E Memória De Santos  2018   \n",
       "17               Fundação Arquivo E Memória De Santos  2019   \n",
       "18              Fundação Parque Tecnológico De Santos  2014   \n",
       "19              Fundação Parque Tecnológico De Santos  2015   \n",
       "20              Fundação Parque Tecnológico De Santos  2016   \n",
       "21              Fundação Parque Tecnológico De Santos  2017   \n",
       "22              Fundação Parque Tecnológico De Santos  2018   \n",
       "23              Fundação Parque Tecnológico De Santos  2019   \n",
       "24                     Fundação Pró-Esporte De Santos  2014   \n",
       "25                     Fundação Pró-Esporte De Santos  2015   \n",
       "26                     Fundação Pró-Esporte De Santos  2016   \n",
       "27                     Fundação Pró-Esporte De Santos  2017   \n",
       "28                     Fundação Pró-Esporte De Santos  2018   \n",
       "29                     Fundação Pró-Esporte De Santos  2019   \n",
       "30  Instituto De Previdência Social Dos Servidores...  2014   \n",
       "31  Instituto De Previdência Social Dos Servidores...  2015   \n",
       "32  Instituto De Previdência Social Dos Servidores...  2016   \n",
       "33  Instituto De Previdência Social Dos Servidores...  2017   \n",
       "34  Instituto De Previdência Social Dos Servidores...  2018   \n",
       "35  Instituto De Previdência Social Dos Servidores...  2019   \n",
       "36                     Prefeitura Municipal De Santos  2014   \n",
       "37                     Prefeitura Municipal De Santos  2015   \n",
       "38                     Prefeitura Municipal De Santos  2016   \n",
       "39                     Prefeitura Municipal De Santos  2017   \n",
       "40                     Prefeitura Municipal De Santos  2018   \n",
       "41                     Prefeitura Municipal De Santos  2019   \n",
       "\n",
       "    valor_tota_despesa  \n",
       "0               2256.0  \n",
       "1               2050.0  \n",
       "2              10306.0  \n",
       "3               9274.0  \n",
       "4               9067.0  \n",
       "5               9464.0  \n",
       "6               2195.0  \n",
       "7               2690.0  \n",
       "8               2393.0  \n",
       "9               2465.0  \n",
       "10              2174.0  \n",
       "11              2127.0  \n",
       "12              2339.0  \n",
       "13              1829.0  \n",
       "14              1351.0  \n",
       "15              1354.0  \n",
       "16              1199.0  \n",
       "17              1101.0  \n",
       "18               855.0  \n",
       "19               811.0  \n",
       "20               697.0  \n",
       "21               840.0  \n",
       "22               656.0  \n",
       "23               546.0  \n",
       "24              1075.0  \n",
       "25               902.0  \n",
       "26               721.0  \n",
       "27               788.0  \n",
       "28               914.0  \n",
       "29               822.0  \n",
       "30              2731.0  \n",
       "31              2610.0  \n",
       "32              2347.0  \n",
       "33              1882.0  \n",
       "34              2134.0  \n",
       "35              3215.0  \n",
       "36            107804.0  \n",
       "37            102179.0  \n",
       "38            109925.0  \n",
       "39             88548.0  \n",
       "40             80717.0  \n",
       "41             85775.0  "
      ]
     },
     "execution_count": 26,
     "metadata": {},
     "output_type": "execute_result"
    }
   ],
   "source": [
    "df_despesa_orgaos_santos"
   ]
  },
  {
   "cell_type": "markdown",
   "metadata": {},
   "source": [
    "#### Município São Vicente"
   ]
  },
  {
   "cell_type": "code",
   "execution_count": null,
   "metadata": {},
   "outputs": [],
   "source": [
    "df_sao_vicente = df_despesa_municipio('sao-vicente')"
   ]
  },
  {
   "cell_type": "code",
   "execution_count": 28,
   "metadata": {},
   "outputs": [],
   "source": [
    "#Chama as funções de transformação\n",
    "df_mun_df_sao_vicente = deleta_duplicidade(df_sao_vicente)\n",
    "df_mun_df_sao_vicente = deleta_colunas(df_mun_df_sao_vicente)\n",
    "df_mun_df_sao_vicente = deleta_linha_vazia(df_mun_df_sao_vicente)\n",
    "df_mun_df_sao_vicente = rename_uppercase(df_mun_df_sao_vicente)\n",
    "df_mun_df_sao_vicente = renomemar_coluna(df_mun_df_sao_vicente)\n"
   ]
  },
  {
   "cell_type": "code",
   "execution_count": 56,
   "metadata": {},
   "outputs": [],
   "source": [
    "#Cria novo dataframe visão despesa municipio por ano e mes\n",
    "df_despesa_mun_sao_vicente = cria_nova_tabela_municipio(\n",
    "    df_mun_df_sao_vicente, 'sao vicente')\n"
   ]
  },
  {
   "cell_type": "code",
   "execution_count": 83,
   "metadata": {},
   "outputs": [],
   "source": [
    "df_despesa_mun_sao_vicente.to_excel(r'C:\\Users\\USER\\Desktop\\Projeto - TCE\\tabelas\\tabela_mun_sao_vicente.xlsx', index=False)"
   ]
  },
  {
   "cell_type": "code",
   "execution_count": 57,
   "metadata": {},
   "outputs": [
    {
     "data": {
      "text/html": [
       "<div>\n",
       "<style scoped>\n",
       "    .dataframe tbody tr th:only-of-type {\n",
       "        vertical-align: middle;\n",
       "    }\n",
       "\n",
       "    .dataframe tbody tr th {\n",
       "        vertical-align: top;\n",
       "    }\n",
       "\n",
       "    .dataframe thead th {\n",
       "        text-align: right;\n",
       "    }\n",
       "</style>\n",
       "<table border=\"1\" class=\"dataframe\">\n",
       "  <thead>\n",
       "    <tr style=\"text-align: right;\">\n",
       "      <th></th>\n",
       "      <th>municipio</th>\n",
       "      <th>ano</th>\n",
       "      <th>mes</th>\n",
       "      <th>valor_tota_despesa</th>\n",
       "    </tr>\n",
       "  </thead>\n",
       "  <tbody>\n",
       "    <tr>\n",
       "      <th>0</th>\n",
       "      <td>sao vicente</td>\n",
       "      <td>2014</td>\n",
       "      <td>Abril</td>\n",
       "      <td>7218.0</td>\n",
       "    </tr>\n",
       "    <tr>\n",
       "      <th>1</th>\n",
       "      <td>sao vicente</td>\n",
       "      <td>2014</td>\n",
       "      <td>Agosto</td>\n",
       "      <td>6876.0</td>\n",
       "    </tr>\n",
       "    <tr>\n",
       "      <th>2</th>\n",
       "      <td>sao vicente</td>\n",
       "      <td>2014</td>\n",
       "      <td>Dezembro</td>\n",
       "      <td>10627.0</td>\n",
       "    </tr>\n",
       "    <tr>\n",
       "      <th>3</th>\n",
       "      <td>sao vicente</td>\n",
       "      <td>2014</td>\n",
       "      <td>Fevereiro</td>\n",
       "      <td>5570.0</td>\n",
       "    </tr>\n",
       "    <tr>\n",
       "      <th>4</th>\n",
       "      <td>sao vicente</td>\n",
       "      <td>2014</td>\n",
       "      <td>Janeiro</td>\n",
       "      <td>5968.0</td>\n",
       "    </tr>\n",
       "    <tr>\n",
       "      <th>...</th>\n",
       "      <td>...</td>\n",
       "      <td>...</td>\n",
       "      <td>...</td>\n",
       "      <td>...</td>\n",
       "    </tr>\n",
       "    <tr>\n",
       "      <th>67</th>\n",
       "      <td>sao vicente</td>\n",
       "      <td>2019</td>\n",
       "      <td>Maio</td>\n",
       "      <td>5488.0</td>\n",
       "    </tr>\n",
       "    <tr>\n",
       "      <th>68</th>\n",
       "      <td>sao vicente</td>\n",
       "      <td>2019</td>\n",
       "      <td>Março</td>\n",
       "      <td>4936.0</td>\n",
       "    </tr>\n",
       "    <tr>\n",
       "      <th>69</th>\n",
       "      <td>sao vicente</td>\n",
       "      <td>2019</td>\n",
       "      <td>Novembro</td>\n",
       "      <td>5700.0</td>\n",
       "    </tr>\n",
       "    <tr>\n",
       "      <th>70</th>\n",
       "      <td>sao vicente</td>\n",
       "      <td>2019</td>\n",
       "      <td>Outubro</td>\n",
       "      <td>5883.0</td>\n",
       "    </tr>\n",
       "    <tr>\n",
       "      <th>71</th>\n",
       "      <td>sao vicente</td>\n",
       "      <td>2019</td>\n",
       "      <td>Setembro</td>\n",
       "      <td>5316.0</td>\n",
       "    </tr>\n",
       "  </tbody>\n",
       "</table>\n",
       "<p>72 rows × 4 columns</p>\n",
       "</div>"
      ],
      "text/plain": [
       "      municipio   ano        mes  valor_tota_despesa\n",
       "0   sao vicente  2014      Abril              7218.0\n",
       "1   sao vicente  2014     Agosto              6876.0\n",
       "2   sao vicente  2014   Dezembro             10627.0\n",
       "3   sao vicente  2014  Fevereiro              5570.0\n",
       "4   sao vicente  2014    Janeiro              5968.0\n",
       "..          ...   ...        ...                 ...\n",
       "67  sao vicente  2019       Maio              5488.0\n",
       "68  sao vicente  2019      Março              4936.0\n",
       "69  sao vicente  2019   Novembro              5700.0\n",
       "70  sao vicente  2019    Outubro              5883.0\n",
       "71  sao vicente  2019   Setembro              5316.0\n",
       "\n",
       "[72 rows x 4 columns]"
      ]
     },
     "execution_count": 57,
     "metadata": {},
     "output_type": "execute_result"
    }
   ],
   "source": [
    "df_despesa_mun_sao_vicente"
   ]
  },
  {
   "cell_type": "code",
   "execution_count": 31,
   "metadata": {},
   "outputs": [],
   "source": [
    "#Cria novo dataframe visão despesa orgao por ano\n",
    "df_despesa_orgaos_sao_vicente = cria_nova_tabela_orgaos(df_mun_df_sao_vicente)"
   ]
  },
  {
   "cell_type": "code",
   "execution_count": 82,
   "metadata": {},
   "outputs": [],
   "source": [
    "df_despesa_orgaos_sao_vicente.to_excel(r'C:\\Users\\USER\\Desktop\\Projeto - TCE\\tabelas\\tabela_orgao_sao_vicente.xlsx', index=False)"
   ]
  },
  {
   "cell_type": "markdown",
   "metadata": {},
   "source": [
    "#### Município Guarujá"
   ]
  },
  {
   "cell_type": "code",
   "execution_count": null,
   "metadata": {},
   "outputs": [],
   "source": [
    "df_guaruja = df_despesa_municipio('guaruja')"
   ]
  },
  {
   "cell_type": "code",
   "execution_count": 34,
   "metadata": {},
   "outputs": [],
   "source": [
    "#Chama as funções de transformação\n",
    "df_mun_df_guaruja = deleta_duplicidade(df_guaruja)\n",
    "df_mun_df_guaruja = deleta_colunas(df_mun_df_guaruja)\n",
    "df_mun_df_guaruja = deleta_linha_vazia(df_mun_df_guaruja)\n",
    "df_mun_df_guaruja = rename_uppercase(df_mun_df_guaruja)\n",
    "df_mun_df_guaruja = renomemar_coluna(df_mun_df_guaruja)\n"
   ]
  },
  {
   "cell_type": "code",
   "execution_count": 58,
   "metadata": {},
   "outputs": [],
   "source": [
    "#Cria novo dataframe visão despesa municipio por ano e mes\n",
    "df_despesa_mun_guaruja = cria_nova_tabela_municipio(\n",
    "    df_mun_df_guaruja, 'guaruja')\n"
   ]
  },
  {
   "cell_type": "code",
   "execution_count": 81,
   "metadata": {},
   "outputs": [],
   "source": [
    "df_despesa_mun_guaruja.to_excel(r'C:\\Users\\USER\\Desktop\\Projeto - TCE\\tabelas\\tabela_mun_guaruja.xlsx', index=False)"
   ]
  },
  {
   "cell_type": "code",
   "execution_count": 36,
   "metadata": {},
   "outputs": [],
   "source": [
    "#Cria novo dataframe visão despesa orgao por ano\n",
    "df_despesa_orgaos_guaruja = cria_nova_tabela_orgaos(df_mun_df_guaruja)\n"
   ]
  },
  {
   "cell_type": "code",
   "execution_count": 80,
   "metadata": {},
   "outputs": [],
   "source": [
    "df_despesa_orgaos_guaruja.to_excel(r'C:\\Users\\USER\\Desktop\\Projeto - TCE\\tabelas\\orgao_guaruja.xlsx', index=False)"
   ]
  },
  {
   "cell_type": "markdown",
   "metadata": {},
   "source": [
    "#### Caraguatatuba"
   ]
  },
  {
   "cell_type": "code",
   "execution_count": null,
   "metadata": {},
   "outputs": [],
   "source": [
    "df_caraguatatuba = df_despesa_municipio('caraguatatuba')\n"
   ]
  },
  {
   "cell_type": "code",
   "execution_count": 38,
   "metadata": {},
   "outputs": [],
   "source": [
    "#Chama as funções de transformação\n",
    "df_mun_caraguatatuba = deleta_duplicidade(df_caraguatatuba)\n",
    "df_mun_caraguatatuba = deleta_colunas(df_mun_caraguatatuba)\n",
    "df_mun_caraguatatuba = deleta_linha_vazia(df_mun_caraguatatuba)\n",
    "df_mun_caraguatatuba = rename_uppercase(df_mun_caraguatatuba)\n",
    "df_mun_caraguatatuba = renomemar_coluna(df_mun_caraguatatuba)\n"
   ]
  },
  {
   "cell_type": "code",
   "execution_count": 59,
   "metadata": {},
   "outputs": [],
   "source": [
    "#Cria novo dataframe visão despesa municipio por ano e mes\n",
    "df_despesa_mun_caraguatatuba = cria_nova_tabela_municipio(\n",
    "    df_mun_caraguatatuba, 'caraguatatuba')\n"
   ]
  },
  {
   "cell_type": "code",
   "execution_count": 79,
   "metadata": {},
   "outputs": [],
   "source": [
    "df_despesa_mun_caraguatatuba.to_excel(r'C:\\Users\\USER\\Desktop\\Projeto - TCE\\tabelas\\tabela_mun_caraguatatuba.xlsx', index=False)"
   ]
  },
  {
   "cell_type": "code",
   "execution_count": 40,
   "metadata": {},
   "outputs": [],
   "source": [
    "#Cria novo dataframe visão despesa orgao por ano\n",
    "df_despesa_orgaos_caraguatatuba = cria_nova_tabela_orgaos(df_mun_caraguatatuba)\n"
   ]
  },
  {
   "cell_type": "code",
   "execution_count": 87,
   "metadata": {},
   "outputs": [],
   "source": [
    "df_despesa_orgaos_caraguatatuba.to_excel(r'C:\\Users\\USER\\Desktop\\Projeto - TCE\\tabelas\\tabela_orgao_caraguatatuba.xlsx', index=False)"
   ]
  },
  {
   "cell_type": "markdown",
   "metadata": {},
   "source": [
    "Juntando os dataframes"
   ]
  },
  {
   "cell_type": "code",
   "execution_count": null,
   "metadata": {},
   "outputs": [],
   "source": [
    "tabela_despesa_municipio = df_despesa_mun_praia_grande.append(\n",
    "    [df_despesa_mun_santos, df_despesa_mun_sao_vicente, df_despesa_mun_guaruja, df_despesa_mun_caraguatatuba])\n"
   ]
  },
  {
   "cell_type": "code",
   "execution_count": 62,
   "metadata": {},
   "outputs": [
    {
     "data": {
      "text/html": [
       "<div>\n",
       "<style scoped>\n",
       "    .dataframe tbody tr th:only-of-type {\n",
       "        vertical-align: middle;\n",
       "    }\n",
       "\n",
       "    .dataframe tbody tr th {\n",
       "        vertical-align: top;\n",
       "    }\n",
       "\n",
       "    .dataframe thead th {\n",
       "        text-align: right;\n",
       "    }\n",
       "</style>\n",
       "<table border=\"1\" class=\"dataframe\">\n",
       "  <thead>\n",
       "    <tr style=\"text-align: right;\">\n",
       "      <th></th>\n",
       "      <th>municipio</th>\n",
       "      <th>ano</th>\n",
       "      <th>mes</th>\n",
       "      <th>valor_tota_despesa</th>\n",
       "    </tr>\n",
       "  </thead>\n",
       "  <tbody>\n",
       "    <tr>\n",
       "      <th>0</th>\n",
       "      <td>praia grande</td>\n",
       "      <td>2014</td>\n",
       "      <td>Abril</td>\n",
       "      <td>7065.0</td>\n",
       "    </tr>\n",
       "    <tr>\n",
       "      <th>1</th>\n",
       "      <td>praia grande</td>\n",
       "      <td>2014</td>\n",
       "      <td>Agosto</td>\n",
       "      <td>7658.0</td>\n",
       "    </tr>\n",
       "    <tr>\n",
       "      <th>2</th>\n",
       "      <td>praia grande</td>\n",
       "      <td>2014</td>\n",
       "      <td>Dezembro</td>\n",
       "      <td>9991.0</td>\n",
       "    </tr>\n",
       "    <tr>\n",
       "      <th>3</th>\n",
       "      <td>praia grande</td>\n",
       "      <td>2014</td>\n",
       "      <td>Fevereiro</td>\n",
       "      <td>5280.0</td>\n",
       "    </tr>\n",
       "    <tr>\n",
       "      <th>4</th>\n",
       "      <td>praia grande</td>\n",
       "      <td>2014</td>\n",
       "      <td>Janeiro</td>\n",
       "      <td>3671.0</td>\n",
       "    </tr>\n",
       "    <tr>\n",
       "      <th>...</th>\n",
       "      <td>...</td>\n",
       "      <td>...</td>\n",
       "      <td>...</td>\n",
       "      <td>...</td>\n",
       "    </tr>\n",
       "    <tr>\n",
       "      <th>67</th>\n",
       "      <td>caraguatatuba</td>\n",
       "      <td>2019</td>\n",
       "      <td>Maio</td>\n",
       "      <td>8291.0</td>\n",
       "    </tr>\n",
       "    <tr>\n",
       "      <th>68</th>\n",
       "      <td>caraguatatuba</td>\n",
       "      <td>2019</td>\n",
       "      <td>Março</td>\n",
       "      <td>6901.0</td>\n",
       "    </tr>\n",
       "    <tr>\n",
       "      <th>69</th>\n",
       "      <td>caraguatatuba</td>\n",
       "      <td>2019</td>\n",
       "      <td>Novembro</td>\n",
       "      <td>7081.0</td>\n",
       "    </tr>\n",
       "    <tr>\n",
       "      <th>70</th>\n",
       "      <td>caraguatatuba</td>\n",
       "      <td>2019</td>\n",
       "      <td>Outubro</td>\n",
       "      <td>6675.0</td>\n",
       "    </tr>\n",
       "    <tr>\n",
       "      <th>71</th>\n",
       "      <td>caraguatatuba</td>\n",
       "      <td>2019</td>\n",
       "      <td>Setembro</td>\n",
       "      <td>7862.0</td>\n",
       "    </tr>\n",
       "  </tbody>\n",
       "</table>\n",
       "<p>360 rows × 4 columns</p>\n",
       "</div>"
      ],
      "text/plain": [
       "        municipio   ano        mes  valor_tota_despesa\n",
       "0    praia grande  2014      Abril              7065.0\n",
       "1    praia grande  2014     Agosto              7658.0\n",
       "2    praia grande  2014   Dezembro              9991.0\n",
       "3    praia grande  2014  Fevereiro              5280.0\n",
       "4    praia grande  2014    Janeiro              3671.0\n",
       "..            ...   ...        ...                 ...\n",
       "67  caraguatatuba  2019       Maio              8291.0\n",
       "68  caraguatatuba  2019      Março              6901.0\n",
       "69  caraguatatuba  2019   Novembro              7081.0\n",
       "70  caraguatatuba  2019    Outubro              6675.0\n",
       "71  caraguatatuba  2019   Setembro              7862.0\n",
       "\n",
       "[360 rows x 4 columns]"
      ]
     },
     "execution_count": 62,
     "metadata": {},
     "output_type": "execute_result"
    }
   ],
   "source": [
    "tabela_despesa_municipio\n"
   ]
  },
  {
   "cell_type": "code",
   "execution_count": 77,
   "metadata": {},
   "outputs": [],
   "source": [
    "tabela_despesa_municipio.to_excel(r'C:\\Users\\USER\\Desktop\\Projeto - TCE\\tabelas\\tabela_municipios.xlsx', index=False)"
   ]
  },
  {
   "cell_type": "markdown",
   "metadata": {},
   "source": [
    "Gráfico 5 -  Despesa por município "
   ]
  },
  {
   "cell_type": "code",
   "execution_count": 63,
   "metadata": {},
   "outputs": [],
   "source": [
    "df_grafico_mun = tabela_despesa_municipio.groupby(['municipio'])['valor_tota_despesa'].sum().reset_index(name='total')"
   ]
  },
  {
   "cell_type": "code",
   "execution_count": 73,
   "metadata": {},
   "outputs": [
    {
     "data": {
      "image/png": "[encoded data removed]",
      "text/plain": [
       "<Figure size 432x288 with 1 Axes>"
      ]
     },
     "metadata": {},
     "output_type": "display_data"
    }
   ],
   "source": [
    "lista_mun = df_grafico_mun['municipio'].tolist()\n",
    "lista_despesa= df_grafico_mun['total'].tolist()\n",
    "\n",
    "#criando a área de plotagem\n",
    "fig1, ax1 = plt.subplots()\n",
    "\n",
    "#cores\n",
    "colors = ['gold', 'yellowgreen', 'blue', 'orange', 'green']\n",
    "#criando o gráfico\n",
    "ax1.pie(lista_despesa, labels=lista_mun, colors=colors, autopct='%1.1f%%',\n",
    "        shadow=True, startangle=140)\n",
    "\n",
    "#caixa de legenda externa\n",
    "ax1.legend(lista_mun, \n",
    "          title='Orgãos', \n",
    "          loc='center left',\n",
    "          bbox_to_anchor=(1, 0, 0.5, 1))\n",
    "\n",
    "#Título do gráfico\n",
    "ax1.set_title(\"Valor de despesa por município\")\n",
    "\n",
    "#para deixar em círculo\n",
    "ax1.axis('equal')\n",
    "\n",
    "plt.show()"
   ]
  },
  {
   "cell_type": "markdown",
   "metadata": {},
   "source": [
    "Gráfico 6 - Despesa por município pelo período de 2014 a 2019 "
   ]
  },
  {
   "cell_type": "code",
   "execution_count": 75,
   "metadata": {},
   "outputs": [
    {
     "data": {
      "image/png": "[encoded data removed]",
      "text/plain": [
       "<Figure size 432x288 with 1 Axes>"
      ]
     },
     "metadata": {
      "needs_background": "light"
     },
     "output_type": "display_data"
    }
   ],
   "source": [
    "#gráfico com o valor de despesas por ano \n",
    "lista_mun_2 = df_grafico_mun['municipio'].tolist()\n",
    "lista_despesa_2 = df_grafico_mun['total'].tolist()\n",
    "\"\"\"\n",
    "    Chamamos o método bar que criará o gráfico de barra passando os \n",
    "    argumentos:\n",
    "    - ano como eixo x\n",
    "    - despasa como eixo y\n",
    "    - color para as cores das barras como green\n",
    "\"\"\"\n",
    "plt.bar(lista_mun_2, lista_despesa_2, color=\"orange\")\n",
    "\n",
    "#Legenda de cada barra eixo x\n",
    "plt.xticks(lista_mun_2)\n",
    "\n",
    "#Label para eixo Y e X\n",
    "plt.ylabel(\"Valor despesa\")\n",
    "plt.xlabel(\"Municípios\")\n",
    "\n",
    "#título do gráfico\n",
    "plt.title(\"Despesa por município\")\n",
    "\n",
    "plt.show()"
   ]
  }
 ],
 "metadata": {
  "kernelspec": {
   "display_name": "Python 3",
   "language": "python",
   "name": "python3"
  },
  "language_info": {
   "codemirror_mode": {
    "name": "ipython",
    "version": 3
   },
   "file_extension": ".py",
   "mimetype": "text/x-python",
   "name": "python",
   "nbconvert_exporter": "python",
   "pygments_lexer": "ipython3",
   "version": "3.10.6"
  },
  "orig_nbformat": 4
 },
 "nbformat": 4,
 "nbformat_minor": 2
}
